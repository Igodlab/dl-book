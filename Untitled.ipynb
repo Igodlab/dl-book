{
 "cells": [
  {
   "cell_type": "code",
   "execution_count": 12,
   "id": "f2a693f8-23cc-4996-a28c-c50694f7d5ad",
   "metadata": {
    "tags": []
   },
   "outputs": [],
   "source": [
    "fn powerTwo(x: Float32) -> Float32:\n",
    "    return x**2"
   ]
  },
  {
   "cell_type": "code",
   "execution_count": 13,
   "id": "ca17ffdd-4ac4-4104-87c6-699b8511e3be",
   "metadata": {},
   "outputs": [
    {
     "name": "stdout",
     "output_type": "stream",
     "text": [
      "28.090002059936523\n"
     ]
    }
   ],
   "source": [
    "a0 = powerTwo(5.3)\n",
    "print(a0)"
   ]
  },
  {
   "cell_type": "code",
   "execution_count": null,
   "id": "0b92f72b-806d-43a1-afe0-4774f11da17e",
   "metadata": {},
   "outputs": [],
   "source": []
  }
 ],
 "metadata": {
  "kernelspec": {
   "display_name": "Mojo (max)",
   "language": "mojo",
   "name": "mojo-max-jupyter-kernel"
  },
  "language_info": {
   "codemirror_mode": {
    "name": "mojo"
   },
   "file_extension": ".mojo",
   "mimetype": "text/x-mojo",
   "name": "mojo"
  }
 },
 "nbformat": 4,
 "nbformat_minor": 5
}
