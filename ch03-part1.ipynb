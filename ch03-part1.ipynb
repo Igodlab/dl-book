{
 "cells": [
  {
   "cell_type": "markdown",
   "metadata": {},
   "source": [
    "# Deep Learning\n",
    "## Ian Goodfellow & Yoshua Bengio"
   ]
  },
  {
   "cell_type": "code",
   "execution_count": 1,
   "metadata": {},
   "outputs": [],
   "source": [
    "import numpy as np\n",
    "import matplotlib.pyplot as plt\n",
    "import scipy.stats as st"
   ]
  },
  {
   "cell_type": "markdown",
   "metadata": {},
   "source": [
    "# 3. Probability and Information Theory\n",
    "\n",
    "### 3.1 Why Probability?\n",
    "<div class=\"alert alert-block alert-info\">\n",
    "<b>Probability Theory:</b> is a framework to make statements about uncertain things <br>\n",
    "<b>Information theory:</b> allows to quantify the amount of uncertainty in a probability distribution\n",
    "</div>    \n",
    "\n",
    "- **3 sources of uncertainty:**\n",
    "\n",
    "    - i) Inherent stochasticity in the system\n",
    "    - ii) Incomplete observability. Even deterministic systems can appear stochastic when we cannot observe enough features\n",
    "    - iii) Incomplete modeling. Discarding data that raises uncertainty in the model's predictions\n",
    "    \n",
    "- In most cases the philosophy of using a simple and uncertain model is better than using a complex and certain one. \n",
    "    - Because we are separating problems into many computing units we need statements which its assigned probabilities are easy to represent rather than brittle and long specific statements.\n",
    "    \n",
    "<div class=\"alert alert-block alert-info\">\n",
    "<b>Probability Theory:</b> gives a set of formal-rules for determining the likelihood of a proposition being true,  given the likelihood of other propositions\n",
    "</div>  "
   ]
  },
  {
   "cell_type": "markdown",
   "metadata": {},
   "source": [
    "## 3.2 Random Variables\n",
    "A random varaible is a variable that can take values randomly. The notation for this notebooks is as follows: lower case represent values that a random variable can take (eg. $x_1,x_2$ drawn from $\\text{x}$)"
   ]
  },
  {
   "cell_type": "markdown",
   "metadata": {},
   "source": [
    "## 3.3 Probability Distributions\n",
    "Is a description of how likely a random variable is to take on each possible state. We have two descriptions: **Discrete & Continuous**\n",
    "    \n",
    "### 3.3.1 Discrete Variables & Probability Mass Functions \n",
    "- The **Probability Mass Function (PMF)** maps from a state of a discrete random variable to a pobability of the random variable being in that state: $\\text{x}=x \\rightarrow P(\\text{x}=x)$\n",
    "\n",
    "- PMFs that act on many variables are known as **Joint Probability Distributions**\n",
    "- PMFs must staisfy:\n",
    "    \n",
    "    - domain of $P(\\text{x})$ must include all states of $\\text{x}$\n",
    "    - $\\forall x\\in \\text{x},\\; 0\\leq P(x) \\leq 1$\n",
    "    - $\\sum_{x\\in\\text{x}}P(x) = 1$. This porperty is called **Normalized**\n",
    "    \n",
    "### 3.3.2 Continuous Varibles & Probability Density Functions \n",
    "- Continuous variables follow **Probability Density Functions (PDFs)** and similarly to PMFs\n",
    "    - domain of $p$ must be all possible states of $\\text{x}$\n",
    "    - $\\forall x\\in \\text{x},\\; p(x) \\geq 0$. Note that we do not require $p(x)\\leq 1$\n",
    "    - $\\int p(x) dx=1$\n",
    "- $p(x)$ gives the probability of $(x+\\delta x)$ landing in a volume-region $\\delta x p(x)$    \n",
    "\n",
    "## 3.4 Marginal Probability\n",
    "- When we know the probability distribution of a set of variables and we want to know the Probability Distribution over just a subset of them (this is called **marginal probability**):\n",
    "    - Discrete: $\\quad P(\\text{x}=x)=\\sum_y P(\\text{x}=x, \\text{y}=y) \\tag{3.1}$\n",
    "    - Continuous: $\\quad p(x)=\\int p(x,y)dy \\tag{3.2}$\n",
    "    \n",
    "## 3.5 Conditional Probability\n",
    "- Is the probability of one event happening given that another event has happened. Probablity that $\\text{y}=y$ given that $\\text{x}=x$:\n",
    "\n",
    "\\begin{equation}\n",
    "P(\\text{y}=y|\\text{x}=x)= \\frac{P(\\text{y}=y, \\text{x}=x)}{P(\\text{x}=x)} \\tag{3.3}\n",
    "\\end{equation}\n",
    "\n",
    "<div class=\"alert alert-block alert-warning\">\n",
    "<b>Note:</b> Do not confuse conditional probability with probability of something if some action were undertaken. <br> eg. Probability of a German-born person speaking german is high (conditional probability) $\\neq$ person speaking german being from Germany (consequence probabaility, called intervention query)\n",
    "</div>\n",
    "\n",
    "## 3.6 Chain Rule of Conditional Probabilities\n",
    "- States that any joint probability can be decomposed into conditional probabilities over one variable\n",
    "\n",
    "\\begin{equation}\n",
    "P(x^{(1)}, \\ldots, x^{(n)}) = P(x^{(1)})\\prod_{i=2}^n P(x^{(1)}|x^{(1)},\\ldots x^{(i-1)}) \\tag{3.4}\n",
    "\\end{equation}\n",
    "\n",
    "## 3.7 Independece & Conditional Independence\n",
    "- ${\\bf \\text{x}\\perp \\text{y}}:$ random variables $\\text{x}, \\text{y}$ are **independent** iif their probability distributions can be expressed as the product of two factors, each involving only $\\text{x}$ and only $\\text{y}$\n",
    "\n",
    "\\begin{equation}\n",
    "\\forall x\\in\\text{x}, y \\in \\text{y}, \\quad p(\\text{x}=x, \\text{y}=y) = p(\\text{x}=x)p(\\text{y}=y) \\tag{3.5}\n",
    "\\end{equation}\n",
    "\n",
    "- ${\\bf \\text{x}\\perp \\text{y}|\\text{z}}:$ random variables are **conditionally independent** iif given $\\text{z}$ factorizes as follows:\n",
    "\n",
    "\\begin{equation}\n",
    "\\forall x\\in\\text{x}, y \\in \\text{y}, z \\in \\text{z} \\quad p(\\text{x}=x, \\text{y}=y|\\text{z}=z) = p(\\text{x}=x|\\text{z}=z)p(\\text{y}=y|\\text{z}=z) \\tag{3.6}\n",
    "\\end{equation}\n",
    "\n",
    "## 3.8 Expectation Variance and Covariance\n",
    "- The expected value of $f(x)$ with respect to $P(x)$ is the mean/average that $f$ takes when $x$ is drawn from $P$\n",
    "- Discrete: $E_{x\\sim P}[f(x)] = \\sum_x P(x)f(x) \\tag{3.7}$\n",
    "- Continuous: $E_{x\\sim p}[f(x)] = \\int_x p(x)f(x) \\tag{3.8}$\n",
    "- Expectations are linear $E_\\text{x}[\\alpha f(x) + \\beta g(x)]=\\alpha E_\\text{x}[f(x)] + \\beta E_\\text{x}[g(x)] \\tag{3.9}$ \n",
    "- **Variance** gives a measure of how much the values of a function of a random variable deviate from its expected value:\n",
    "\\begin{align}\n",
    "\\sigma^2 = \\text{Var}(f(x)) &= E[(f(x)-E[f(x)])^2] \\tag{3.10} \\\\\\\n",
    "&= E[f(x)^2] - E[f(x)]^2\n",
    "\\end{align}\n",
    "\n",
    "<div class=\"alert alert-block alert-info\">\n",
    "<b>Put an end to the confussion:</b> The square root of the Variance is the Standard Deviation: $\\boxed{\\sqrt{\\text{Var}}=\\text{Std}=\\sigma}$\n",
    "</div>  \n",
    "\n",
    "- The **Covariance** gives a sense of how much two variables are linearly related \n",
    "\\begin{equation}\n",
    "\\text{Cov}[f(x),g(y)] = E\\left[ (f(x) - E[f(x)])(g(y) - E[g(y)]) \\right] \\tag{3.11}\n",
    "\\end{equation}\n",
    "\n",
    "- The **Correlation** furthermore normalizes the distribution\n",
    "\\begin{equation}\n",
    "\\text{Corr}[f(x),g(y)] = \\frac{\\text{Cov}[f(x),g(y)]}{\\sigma_\\text{x} \\sigma_\\text{y}} \\tag{3.12}\n",
    "\\end{equation}\n",
    "\n",
    "<div class=\"alert alert-block alert-warning\">\n",
    "<b>Note:</b> Covariance and dependence are related notions but independence is a distinct property. Two variables that are independent have zero covariance, and two variables that have nonzero covariance are dependent.\n",
    "</div>\n",
    "\n",
    "<div class=\"alert alert-block alert-warning\">\n",
    "<b> Note: </b> Zero covariance means no linear dependence between two variables. Independence is a stronger requirement than zero covariance, because independence also excludes nonlinear relationships. It is possible for two variables to be dependent but have zero covariance.\n",
    "</div>\n",
    "\n",
    "- The **covariance matrix** of a random vector $\\boldsymbol{x} \\in \\mathcal{R}^n$ is an $n \\times n$ matrix, with its diagonal being the variance\n",
    "\n",
    "\\begin{equation}\n",
    "\\text{Cov}({\\bf\\text{x}})_{i,j} = \\text{Cov}(\\text{x}_i, \\text{x}_j) \\tag{3.13}\n",
    "\\end{equation}\n",
    "\n",
    "\\begin{equation}\n",
    "\\text{Cov}(\\text{x}_i, \\text{x}_j) = \\text{Var}(\\text{x}_i) \\tag{3.14}\n",
    "\\end{equation}"
   ]
  },
  {
   "cell_type": "code",
   "execution_count": 9,
   "metadata": {},
   "outputs": [
    {
     "name": "stdout",
     "output_type": "stream",
     "text": [
      "cov= [[ 0.33092436 -0.00428524]\n",
      " [-0.00428524  0.33104134]]\n"
     ]
    }
   ],
   "source": [
    "# 3.8 Expectation Variance and Covariance\n",
    "# pg 59 example of independence implying zero-covariance, but zero-covariance not implying independence\n",
    "np.random.seed(42)\n",
    "n = 10000                            # sample size\n",
    "x = st.uniform.rvs(-1,2, size=n)     # uniform random variable between [-1,1]\n",
    "s = np.random.choice((1,-1), size=n) # bernoulli variable that takes -1 or 1 with 1/2 probability each\n",
    "\n",
    "# clearly x and y are not independent because x completely determines the magnitude of y\n",
    "y = x*s \n",
    "\n",
    "# However their covariance is ~zero\n",
    "print(\"cov=\",np.cov(x,y))"
   ]
  },
  {
   "cell_type": "markdown",
   "metadata": {},
   "source": [
    "## 3.9 Common Probability Distributions\n",
    "\n",
    "### 3.9.1 Bernoulli Distribution\n",
    "\n",
    "The most basic distribution:\n",
    "\n",
    "- **Bernoulli distribution** is a distribution over a single random variable, modulated by a single parameter $\\phi \\in [0,1]$ that represents the probability of such single-rand-variable being equal to 1.\n",
    "\n",
    "\\begin{equation}\n",
    "P(\\text{x}=1) = \\phi \\tag{3.15}\n",
    "\\end{equation}"
   ]
  },
  {
   "cell_type": "markdown",
   "metadata": {},
   "source": [
    "## 3.10 Useful Properties & Functions\n",
    "\n",
    "**Logistic Function**\n",
    "\n",
    "\\begin{equation}\n",
    "    \\sigma (x) = \\frac{1}{1+e^{-x}}\n",
    "\\end{equation}\n",
    "\n",
    "**Softplus Function**\n",
    "\n",
    "\\begin{equation}\n",
    "    \\zeta (x) = \\log(1+e^x)\n",
    "\\end{equation}\n",
    "\n",
    "this is a smothed version of $x^+=\\max(0,x)$"
   ]
  },
  {
   "cell_type": "code",
   "execution_count": 8,
   "metadata": {},
   "outputs": [
    {
     "data": {
      "text/plain": [
       "[<matplotlib.lines.Line2D at 0x7f68666ffc40>]"
      ]
     },
     "execution_count": 8,
     "metadata": {},
     "output_type": "execute_result"
    },
    {
     "data": {
      "image/png": "[encoded data removed]",
      "text/plain": [
       "<Figure size 1200x500 with 2 Axes>"
      ]
     },
     "metadata": {},
     "output_type": "display_data"
    }
   ],
   "source": [
    "x = np.linspace(-10,10,1000)\n",
    "sigma = (lambda xi: 1/(1+np.e**-xi))\n",
    "zeta = (lambda xi: np.log(1+np.e**xi))\n",
    "\n",
    "def xPlus(x):\n",
    "    fx = []\n",
    "    for xi in x:\n",
    "        fx.append(max(0.0, xi))\n",
    "    return fx\n",
    "\n",
    "fig, axes = plt.subplots(1,2,figsize=(12,5))\n",
    "axes[0].plot(x, sigma(x))\n",
    "axes[1].plot(x, xPlus(x), color=\"purple\")\n",
    "axes[1].plot(x, zeta(x))"
   ]
  },
  {
   "cell_type": "markdown",
   "metadata": {},
   "source": [
    "## 3.11 Bayes' Rule\n",
    "\n",
    "We want to know $P(\\text{x}|\\text{y})$ but we only know $P(\\text{y}|\\text{x})$ and $P(\\text{x})$\n",
    "\n",
    "\\begin{equation}\n",
    "    P(\\text{x}|\\text{y}) = \\frac{P(\\text{x}) P(\\text{y}|\\text{x})}{P(\\text{y})}\n",
    "\\end{equation}\n",
    "\n",
    "where $P(\\text{y})$ can be computed with the chain rule of probabilities $P(\\text{y}) = \\sum_{\\text{x}}P(\\text{y}|\\text{x})$"
   ]
  },
  {
   "cell_type": "markdown",
   "metadata": {},
   "source": [
    "## 3.13 Information Theory\n",
    "\n",
    "**Self-information**: satisfies all previous 3, for single outcome events $\\text{x}=x$\n",
    "\n",
    "\\begin{equation}\n",
    "    I(x) = -\\log P(x)\n",
    "\\end{equation}\n",
    "\n",
    "Generalize this with **Shannon entropy**\n",
    "\n",
    "\\begin{equation}\n",
    "    H(\\text{x}) = E_{\\text{x}\\sim P}[I(x)] = - E_{\\text{x}\\sim P} [\\log P(x)]\n",
    "\\end{equation}\n",
    "\n",
    "the Shannon entropy of a distribution is the expected amount of in an event from that distribution."
   ]
  },
  {
   "cell_type": "code",
   "execution_count": null,
   "metadata": {},
   "outputs": [],
   "source": []
  }
 ],
 "metadata": {
  "kernelspec": {
   "display_name": "Python 3 (ipykernel)",
   "language": "python",
   "name": "python3"
  },
  "language_info": {
   "codemirror_mode": {
    "name": "ipython",
    "version": 3
   },
   "file_extension": ".py",
   "mimetype": "text/x-python",
   "name": "python",
   "nbconvert_exporter": "python",
   "pygments_lexer": "ipython3",
   "version": "3.10.9"
  }
 },
 "nbformat": 4,
 "nbformat_minor": 4
}
